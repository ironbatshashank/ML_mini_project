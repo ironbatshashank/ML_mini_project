{
  "nbformat": 4,
  "nbformat_minor": 0,
  "metadata": {
    "colab": {
      "name": "ML_mini_project_report.ipynb",
      "provenance": [],
      "collapsed_sections": []
    },
    "kernelspec": {
      "name": "python3",
      "display_name": "Python 3"
    },
    "language_info": {
      "name": "python"
    }
  },
  "cells": [
    {
      "cell_type": "markdown",
      "metadata": {
        "id": "91MsGMTna_P9"
      },
      "source": [
        "# ECS7020P mini-project submission\n",
        "\n",
        "The mini-project consists of two components:\n",
        "\n",
        "\n",
        "1.   **Basic solution** [6 marks]: Using the MLEnd Hums and Whistles dataset, build a machine learning pipeline that takes as an input a Potter or a StarWars audio segment and predicts its song label (either Harry or StarWars).\n",
        "2.   **Advanced solution** [10 marks]: There are two options. (i) Formulate a machine learning problem that can be attempted using the MLEnd Hums and Whistles dataset and build a solution model. (ii) Create a product that uses the functionality provided by a model trained on the MLEnd Hums and Whistles dataset (e.g. a simple App that predicts the label Harry or StarWars when you hum to it).  \n",
        "\n",
        "The submission will consist of two Jupyter notebooks, one for the basic solution and another one for advanced solution. Please **name each notebook**:\n",
        "\n",
        "* ECS7020P_miniproject_basic.ipynb\n",
        "* ECS7020P_miniproject_advanced.ipynb\n",
        "\n",
        "then **zipped and submitted toghether**.\n",
        "\n",
        "Each uploaded notebook should consist of: \n",
        "\n",
        "*   **Text cells**, describing concisely each step and results.\n",
        "*   **Code cells**, implementing each step.\n",
        "*   **Output cells**, i.e. the output from each code cell.\n",
        "\n",
        "and **should have the structure** indicated below. Notebooks will not be run, please make sure that the output cells are saved.\n",
        "\n",
        "How will we evaluate your submission?\n",
        "\n",
        "*   Conciseness in your writing (10%).\n",
        "*   Correctness in your methodology (30%).\n",
        "*   Correctness in your analysis and conclusions (30%).\n",
        "*   Completeness (10%).\n",
        "*   Originality (10%).\n",
        "*   Efforts to try something new (10%).\n",
        "\n",
        "Suggestion: Why don't you use **GitHub** to manage your project? GitHub can be used as a presentation card that showcases what you have done and gives evidence of your data science skills, knowledge and experience. \n",
        "\n",
        "Each notebook should be structured into the following 9 sections:\n"
      ]
    },
    {
      "cell_type": "markdown",
      "metadata": {
        "id": "ZaGn4ICrfqXZ"
      },
      "source": [
        "# 1 Author\n",
        "\n",
        "**Student Name**:  Shashank Srivastava\n",
        "\n",
        "**Student ID**:  210696196\n",
        "\n"
      ]
    },
    {
      "cell_type": "markdown",
      "metadata": {
        "id": "o38VQkcdKd6k"
      },
      "source": [
        "# 2 Problem formulation\n",
        "\n",
        "Describe the machine learning problem that you want to solve and explain what's interesting about it."
      ]
    },
    {
      "cell_type": "markdown",
      "source": [
        "# 2.\n",
        "I made a product for IOT devices. The objective was that people generally hum or whistle music at random places and any IOT device nearby them like a watch or refrigerator or TV would pick up on the humming or whistling and would ask them if they would like to hear the whole song and would be able to play it on their demand.\n",
        "\n",
        "I initially started with an alexa skill and google action, I partially built it, but the invocation with humming and whistling became a huge issue. This lead me to develop a hybrid application once and for all.\n",
        "\n",
        "I chose flutter because it is a really powerful engine developed by google and hence provided good support with colab. Flutter also helps me develop applications for all IOT devices irrespective of their OS. \n",
        "\n",
        "Theoritically, we can run this application on all possible devices like a smartwatch, smart fridge, smart TV etc. But due to financial limitations I could only test it on an Android device. \n",
        "\n",
        "This application could be really versatile as flutter was developed by keeping in mind google fuschia(google's new operating system). Flutter also helped me develop this application for the whole IOS environment and all related devices."
      ],
      "metadata": {
        "id": "IA2NSu-nmHln"
      }
    },
    {
      "cell_type": "markdown",
      "metadata": {
        "id": "N3BwrtEdLDit"
      },
      "source": [
        "# 3 Machine Learning pipeline\n",
        "\n",
        "Describe your ML pipeline. Clearly identify its input and output, any intermediate stages (for instance, transformation -> models), and intermediate data moving from one stage to the next. Note that your pipeline does not need to include all the stages. "
      ]
    },
    {
      "cell_type": "markdown",
      "source": [
        "#3 \n",
        "We had to pre-process the data before extracting any features or giving it to a model. Intially, when we were only provided with the notebook, and we had collective data, we had to extract the potter and starwars files from that data.\n",
        "\n",
        "I had to work in that to complete my model. Then when we were given the complete data, it was already segregated into songs. So, I got those files and added an extra label for them, songs. I explicitly declared this variable as potter or starwars. This made all the pre-processing really easy for me.\n",
        "\n",
        "I just assigned the song label to both the songs seperately and then combined the data. Which I eventually trained my model with.\n",
        "\n",
        "This helped me save all the pre-processing of data for the song label."
      ],
      "metadata": {
        "id": "ZdNYGJxinzs3"
      }
    },
    {
      "cell_type": "markdown",
      "metadata": {
        "id": "j1nDXnzYLLH6"
      },
      "source": [
        "# 4 Transformation stage\n",
        "\n",
        "Describe any transformations, such as feature extraction. Identify input and output."
      ]
    },
    {
      "cell_type": "markdown",
      "source": [
        "# 4.\n",
        "I extracted 4 features as mentioned in the notebook provided to us:\n",
        "\n",
        "1. Power.\n",
        "2. Pitch mean.\n",
        "3. Pitch standard deviation.\n",
        "4. Fraction of voiced region.\n"
      ],
      "metadata": {
        "id": "cUGtY-8_Gabm"
      }
    },
    {
      "cell_type": "markdown",
      "metadata": {
        "id": "0F5_kI95LuZ2"
      },
      "source": [
        "# 5 Modelling\n",
        "\n",
        "Describe the ML models that you will implement. "
      ]
    },
    {
      "cell_type": "markdown",
      "source": [
        "# 5.\n",
        "I implemented multiple models on the data, like:\n",
        "* Gaussian\n",
        "* Decision Tree\n",
        "* K Neighbors\n",
        "* Random Forest\n",
        "* Support Vector Machines\n",
        "* Quadratic Discriminant Analysis\n",
        "* XG Boost"
      ],
      "metadata": {
        "id": "Okru8WRvG9xS"
      }
    },
    {
      "cell_type": "markdown",
      "metadata": {
        "id": "bPTSuaB9L2jU"
      },
      "source": [
        "# 6 Methodology\n",
        "\n",
        "Describe how you will train and validate your models, how model performance is assesssed (i.e. accuracy, confusion matrix, etc)"
      ]
    },
    {
      "cell_type": "markdown",
      "source": [
        "# 6.\n",
        "\n",
        "The classfiers had the accuracies as follows:\n",
        "\n",
        "\tRandomForestClassifier\t       64.919%\n",
        "\tXGBClassifier\t                62.097%\n",
        "\tRBF kernel\t                   61.694%\n",
        "\tRBF kernel\t                   61.694%\n",
        "\tKNeighborsClassifier\t         60.887%\n",
        "\tDecisionTreeClassifier\t       57.258%\n",
        "\tGaussianNB\t                   50.000%\n",
        "\tQuadraticDiscriminantAnalysis\t50.000%"
      ],
      "metadata": {
        "id": "Ny3lT82KHs5K"
      }
    },
    {
      "cell_type": "markdown",
      "metadata": {
        "id": "HZQPxztuL9AW"
      },
      "source": [
        "# 7 Dataset\n",
        "\n",
        "Describe the dataset that you will use to create your models and validate them. If you need to preprocess it, do it here. Include visualisations too. You can visualise raw data samples or extracted features."
      ]
    },
    {
      "cell_type": "markdown",
      "source": [
        "# 7.\n",
        "\n",
        "The data was tested on the 4 features and the models gave pretty good accuracy for that. The initial learning gave pretty good classification when we observed for hums and whistles. \n",
        "\n",
        "But because hums and whistles vary greatly, if we would have seperated the hums and whistles files and analysed them seperately, we could have gotten much more higher accuracy. \n",
        "\n",
        "Also, If we have to make a model to classify the data like these, we can try to break them into smaller parts and make seperate models for that and analyse the models for a better result. Combining different data and performing analysis on data harly gives better results."
      ],
      "metadata": {
        "id": "qZO4-HVtIYeF"
      }
    },
    {
      "cell_type": "markdown",
      "metadata": {
        "id": "2qf7GN1aeXJI"
      },
      "source": [
        "# 8 Results\n",
        "\n",
        "Carry out your experiments here, explain your results."
      ]
    },
    {
      "cell_type": "markdown",
      "source": [
        "# 8. \n",
        "We can observe that Random forest has the best accuracy in this. We can also observe that XG Boost also had pretty good accuracy.\n",
        "\n",
        "We can also observe that Gaussian and Quadratic discriminant had pretty bad accuracy for this data. We can observe that these models would not be great for this problem."
      ],
      "metadata": {
        "id": "HJkLmZqtPVGg"
      }
    },
    {
      "cell_type": "markdown",
      "metadata": {
        "id": "fSrJCR_cekPO"
      },
      "source": [
        "# 9 Conclusions\n",
        "\n",
        "Your conclusions, improvements, etc should go here"
      ]
    },
    {
      "cell_type": "markdown",
      "source": [
        "# 9. \n",
        "\n",
        "My conclusions derived from this project was that XG Boost and Random forest are good classifiers when we have to analyse audio files based on these 4 features.\n",
        "\n",
        "These classifiers were also performing good with some extra classifiers like ADA Boost."
      ],
      "metadata": {
        "id": "Y7dk-9hGQUZ9"
      }
    }
  ]
}